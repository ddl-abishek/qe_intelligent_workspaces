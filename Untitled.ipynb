{
 "cells": [
  {
   "cell_type": "code",
   "execution_count": 2,
   "id": "1a7b7fdf-7e4c-4ce1-b35e-c2a7c4010031",
   "metadata": {},
   "outputs": [
    {
     "name": "stdout",
     "output_type": "stream",
     "text": [
      "Collecting PyYAML\n",
      "  Downloading PyYAML-6.0-cp38-cp38-manylinux_2_5_x86_64.manylinux1_x86_64.manylinux_2_12_x86_64.manylinux2010_x86_64.whl (701 kB)\n",
      "\u001b[K     |████████████████████████████████| 701 kB 11.7 MB/s eta 0:00:01\n",
      "\u001b[?25hInstalling collected packages: PyYAML\n",
      "Successfully installed PyYAML-6.0\n"
     ]
    }
   ],
   "source": [
    "! pip install PyYAML --user"
   ]
  },
  {
   "cell_type": "code",
   "execution_count": 3,
   "id": "1620b0c8-ec46-4574-a833-6aff20eeb85a",
   "metadata": {},
   "outputs": [],
   "source": [
    "import pandas as pd\n",
    "from utils import convert_date\n",
    "import yaml\n",
    "from datetime import datetime\n",
    "import argparse\n",
    "import os\n",
    "from multiprocessing import Pool"
   ]
  },
  {
   "cell_type": "code",
   "execution_count": 4,
   "id": "58486f28-15f5-41fb-b75d-fef0a65ded2c",
   "metadata": {},
   "outputs": [],
   "source": [
    "config = yaml.load(open(\"config.yml\", \"r\"), yaml.SafeLoader)"
   ]
  },
  {
   "cell_type": "code",
   "execution_count": 5,
   "id": "53246b56-c18f-4d71-8519-360197b7bfc8",
   "metadata": {},
   "outputs": [],
   "source": [
    "def preprocess_csv(csv_year):\n",
    "    if csv_year == '2015':\n",
    "        dtype = {'Vehicle Expiration Date' : object,\n",
    "                 'Violation Precinct' : float,\n",
    "                 'Issuer Precinct' : float,\n",
    "                 'Vehicle Year' : float}\n",
    "    else:\n",
    "        dtype = {'Vehicle Expiration Date' : float,\n",
    "                 'Violation Precinct' : float,\n",
    "                 'Issuer Precinct' : float,\n",
    "                 'Vehicle Year' : float}        \n",
    "    \n",
    "    clean_data = pd.read_csv(config['Dataset'][csv_year], \n",
    "                             usecols=['Vehicle Expiration Date', 'Violation Precinct', 'Issuer Precinct', 'Vehicle Year'], \n",
    "                             dtype=dtype).dropna()\n",
    "    \n",
    "    clean_data['Vehicle Expiration Date'] = clean_data['Vehicle Expiration Date'].apply(convert_date, meta=('Vehicle Expiration Date', \n",
    "                                                                                                            dtype['Vehicle Expiration Date']))\n",
    "    \n",
    "    if not(os.path.isdir(config['clean_data']['dir'])):\n",
    "        os.makedirs(config['clean_data']['dir'])\n",
    "\n",
    "    clean_data.compute().to_csv(config['clean_data'][csv_year], index=False)"
   ]
  },
  {
   "cell_type": "code",
   "execution_count": null,
   "id": "9900bdbb-a190-4081-a76f-57f7b22bc745",
   "metadata": {},
   "outputs": [],
   "source": [
    "if __name__ == \"__main__\":\n",
    "    with Pool(6) as p:\n",
    "        p.map(get_plot, ['2013-14','2015','2016','2017'])"
   ]
  }
 ],
 "metadata": {
  "kernelspec": {
   "display_name": "Python 3 (ipykernel)",
   "language": "python",
   "name": "python3"
  },
  "language_info": {
   "codemirror_mode": {
    "name": "ipython",
    "version": 3
   },
   "file_extension": ".py",
   "mimetype": "text/x-python",
   "name": "python",
   "nbconvert_exporter": "python",
   "pygments_lexer": "ipython3",
   "version": "3.8.12"
  }
 },
 "nbformat": 4,
 "nbformat_minor": 5
}
